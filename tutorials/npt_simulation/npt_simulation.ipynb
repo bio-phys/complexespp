{
 "cells": [
  {
   "cell_type": "code",
   "execution_count": null,
   "metadata": {},
   "outputs": [],
   "source": [
    "%matplotlib inline\n",
    "import matplotlib.pyplot as plt\n",
    "import numpy as np\n",
    "import MDAnalysis as mda\n",
    "import yaml\n",
    "import pandas as pd\n",
    "from pycomplexes import convert\n",
    "import itertools"
   ]
  },
  {
   "cell_type": "markdown",
   "metadata": {},
   "source": [
    "This tutorial shows how to use the NPT algorithm in complexes. As example an Argon fluid is simulated."
   ]
  },
  {
   "cell_type": "markdown",
   "metadata": {},
   "source": [
    "# Reference Data"
   ]
  },
  {
   "cell_type": "markdown",
   "metadata": {},
   "source": [
    "In this tutorial, we set up a NPT-simulation with a number Ar-Atoms. Every particle acts symbolic as a domain for complexes and is simulated as an independent simulation bead.\n",
    "In the following you will be provided reference data for a system of Ar-particles.\n",
    "This system is a basic example of a Lennard-Jones fluid."
   ]
  },
  {
   "cell_type": "code",
   "execution_count": null,
   "metadata": {},
   "outputs": [],
   "source": [
    "rho = [0.0025, 0.0059, 0.0102, 0.0128, 0.0153, 0.0178, 0.0204, 0.0229]\n",
    "p = [74.60, 138.12, 295.96, 448.77, 737.1768776714837, 1269.49, 2216.57, 3816.02]\n",
    "reference = pd.DataFrame({'rho':rho,'p':p})"
   ]
  },
  {
   "cell_type": "code",
   "execution_count": null,
   "metadata": {
    "scrolled": true
   },
   "outputs": [],
   "source": [
    "fig, ax = plt.subplots()\n",
    "ax.plot(reference.p, reference.rho, 'o')\n",
    "ax.set(xlabel='Pressure [bar]', ylabel='Density [$1/\\AA$]')\n",
    "fig.tight_layout()"
   ]
  },
  {
   "cell_type": "markdown",
   "metadata": {},
   "source": [
    "# Prepare initial configuration"
   ]
  },
  {
   "cell_type": "code",
   "execution_count": null,
   "metadata": {},
   "outputs": [],
   "source": [
    "# Helper Functions\n",
    "\n",
    "def make_universe(nbeads):\n",
    "    \"\"\"Create MDAnalysis Universe from scratch for manipulation\n",
    "    \"\"\"\n",
    "    u = mda.Universe.empty(nbeads, trajectory=True,\n",
    "                           n_residues=nbeads,\n",
    "                           atom_resindex=np.arange(nbeads),\n",
    "                           n_segments=nbeads,\n",
    "                           residue_segindex=np.arange(nbeads))\n",
    "    u.add_TopologyAttr('names', np.array(['A', ] * nbeads))\n",
    "    u.add_TopologyAttr('resnames', np.array(['AR',]*nbeads))\n",
    "    u.add_TopologyAttr('resids', np.arange(nbeads) + 1)\n",
    "    u.add_TopologyAttr('masses', np.ones(nbeads))\n",
    "    u.add_TopologyAttr('segids', np.array(['A', ] * nbeads))\n",
    "    u.add_TopologyAttr('altLocs')\n",
    "    u.add_TopologyAttr('occupancies', np.ones(nbeads))\n",
    "    u.add_TopologyAttr('icodes')\n",
    "    u.add_TopologyAttr('tempfactors')\n",
    "    return u\n",
    "\n",
    "def density_to_volume(rho, N): # will be in same unit as (1/rho)^3\n",
    "    \"\"\"Calculate ocupied volume for a given density and number of particles\"\"\"\n",
    "    return float(N) / rho\n",
    "\n",
    "def is_cube(n):\n",
    "    cube = np.round(np.cbrt(n))\n",
    "    return cube**3 == n\n",
    "\n",
    "def grid_points(n, boxsize):\n",
    "    \"\"\"equally distance points in a 3D grid\n",
    "    \"\"\"\n",
    "    if not is_cube(n):\n",
    "        raise ValueError('only works if n is a power of 3')\n",
    "    \n",
    "    L = .9 * boxsize\n",
    "    # how many points can I put along once axis\n",
    "    points_per_dim = int(np.round(np.cbrt(n)))\n",
    "    dx = L / (points_per_dim - 1)\n",
    "    \n",
    "    # generate grid points here\n",
    "    points = [np.array(ijk) * dx for ijk in itertools.product(range(points_per_dim), repeat=3)]\n",
    "    return np.array(points) "
   ]
  },
  {
   "cell_type": "markdown",
   "metadata": {},
   "source": [
    "Here you can choose a pressure and density to simulate. You can try other values later if you wish. "
   ]
  },
  {
   "cell_type": "code",
   "execution_count": null,
   "metadata": {},
   "outputs": [],
   "source": [
    "pressure = 75  # Bar\n",
    "density = 0.01\n",
    "# standard name for files we use\n",
    "fname = 'ar-sys'"
   ]
  },
  {
   "cell_type": "markdown",
   "metadata": {},
   "source": [
    "The number of beads you are choosing will determine the final simulation box size together with the density"
   ]
  },
  {
   "cell_type": "code",
   "execution_count": null,
   "metadata": {},
   "outputs": [],
   "source": [
    "n_beads = 125\n",
    "box_volume = density_to_volume(density, n_beads)\n",
    "box_length = np.cbrt(box_volume)\n",
    "box = np.ones(3) * box_length"
   ]
  },
  {
   "cell_type": "markdown",
   "metadata": {},
   "source": [
    "We start the simulations from a crystal. Therefore we need to place the beads on a crystal."
   ]
  },
  {
   "cell_type": "code",
   "execution_count": null,
   "metadata": {},
   "outputs": [],
   "source": [
    "u = make_universe(n_beads)\n",
    "u.atoms.positions = grid_points(n_beads, box_length)\n",
    "pdb = fname + '.pdb'\n",
    "u.atoms.write(pdb)"
   ]
  },
  {
   "cell_type": "markdown",
   "metadata": {},
   "source": [
    "Now we have everything to setup a system and create a CPLX using the `convert` tool from python."
   ]
  },
  {
   "cell_type": "code",
   "execution_count": null,
   "metadata": {},
   "outputs": [],
   "source": [
    "# Generate simply system description for convert\n",
    "tops = {}\n",
    "for i in range(n_beads):\n",
    "    tops['AR-{}'.format(i)] = {'coordinate-file': pdb,\n",
    "                               'domains': {\n",
    "                                    'AR': {\n",
    "                                        'selection': 'resnum {}'.format(i+1),\n",
    "                                        'type': 'rigid'}}}\n",
    "system = {'box': box.tolist(),\n",
    "          'topology': tops}\n",
    "\n",
    "# Generate and write CPLX\n",
    "system = convert.convert(system, forcefield='argon.yaml')\n",
    "with open(fname + '.cplx', 'w') as fh:\n",
    "    yaml.dump(system, fh)"
   ]
  },
  {
   "cell_type": "markdown",
   "metadata": {},
   "source": [
    "# Running an NPT Simulation\n",
    "\n",
    "The last file needed for a simulation is the configuration. There, we select the NPT ensemble and set the maximum step size for the volume variation. As the maximal delta for the volume moves we use 10 % of the initial volume."
   ]
  },
  {
   "cell_type": "code",
   "execution_count": null,
   "metadata": {},
   "outputs": [],
   "source": [
    "config = {'structure': 'ar-sys.cplx',\n",
    "          'montecarlo': {\n",
    "              'algorithm': 'npt',\n",
    "              'algorithm-params': {\n",
    "                  'accept-func': 'metropolis',\n",
    "                  'temperatur': '240',\n",
    "                  'dV':  .1 * box_volume,\n",
    "                  'pressure': pressure,\n",
    "                  # turn on verbose logging of volume move acceptance rate\n",
    "                  'verbose': False\n",
    "              },\n",
    "              'equilibration': 0,\n",
    "              'seed': 4242,\n",
    "              'short-range-cutoff': {\n",
    "                  'enable': False\n",
    "              }\n",
    "          },\n",
    "          'output': {\n",
    "              'file': 'npt.xtc',\n",
    "              'log': 'npt.log',\n",
    "              'stat-file': 'npt.stat',\n",
    "              'restart-freq': -1,\n",
    "              # after how many sweeps is a structure written\n",
    "              'freq': 2,\n",
    "              # how many structures are written in total\n",
    "              'nstructures': 100\n",
    "          }\n",
    "         }\n",
    "with open('npt.conf', 'w') as fh:\n",
    "    yaml.dump(config, fh)"
   ]
  },
  {
   "cell_type": "markdown",
   "metadata": {},
   "source": [
    "Now we can run the simulation."
   ]
  },
  {
   "cell_type": "code",
   "execution_count": null,
   "metadata": {
    "scrolled": true
   },
   "outputs": [],
   "source": [
    "!complexes++ --config=npt.conf"
   ]
  },
  {
   "cell_type": "markdown",
   "metadata": {},
   "source": [
    "# Analysis"
   ]
  },
  {
   "cell_type": "markdown",
   "metadata": {},
   "source": [
    "## screen volume"
   ]
  },
  {
   "cell_type": "markdown",
   "metadata": {},
   "source": [
    "Since we are particularly interested in the behavior of the volume of our system, we want to extract the volume of the system over the simulation.\n",
    "The following function uses MDAnalysis to do so."
   ]
  },
  {
   "cell_type": "code",
   "execution_count": null,
   "metadata": {},
   "outputs": [],
   "source": [
    "stat = pd.read_csv('npt.stat')"
   ]
  },
  {
   "cell_type": "code",
   "execution_count": null,
   "metadata": {
    "scrolled": true
   },
   "outputs": [],
   "source": [
    "fig, ax = plt.subplots()\n",
    "ax.plot(stat.volume)\n",
    "ax.set(xlabel ='frame', ylabel='volume [$\\AA^3$]')\n",
    "fig.tight_layout()"
   ]
  },
  {
   "cell_type": "markdown",
   "metadata": {},
   "source": [
    "# Further tasks\n",
    "\n",
    "1. The density in the simulation does not converge within the small number of Monte Carlo step, we set above. Calculate the density of the simulation and check. \n",
    "\n",
    "2. How long to you need to run the simulation for converged results? Does this length depend on the chosen pressure?\n",
    "\n",
    "3. How does your convergence behave, if you use inconsistent starting densities for a given pressure. For example choose a high pressure and low density. Or a low pressure and high density. The equation of state diagram at the top should help you select pressure and density pairs."
   ]
  },
  {
   "cell_type": "code",
   "execution_count": null,
   "metadata": {},
   "outputs": [],
   "source": []
  }
 ],
 "metadata": {
  "kernelspec": {
   "display_name": "Python 3 (ipykernel)",
   "language": "python",
   "name": "python3"
  },
  "language_info": {
   "codemirror_mode": {
    "name": "ipython",
    "version": 3
   },
   "file_extension": ".py",
   "mimetype": "text/x-python",
   "name": "python",
   "nbconvert_exporter": "python",
   "pygments_lexer": "ipython3",
   "version": "3.9.7"
  },
  "toc": {
   "base_numbering": 1,
   "nav_menu": {},
   "number_sections": true,
   "sideBar": true,
   "skip_h1_title": false,
   "title_cell": "Table of Contents",
   "title_sidebar": "Contents",
   "toc_cell": false,
   "toc_position": {},
   "toc_section_display": true,
   "toc_window_display": false
  }
 },
 "nbformat": 4,
 "nbformat_minor": 2
}
