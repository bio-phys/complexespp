{
 "cells": [
  {
   "cell_type": "markdown",
   "metadata": {},
   "source": [
    "# Tutorial for simulation of CHMP3\n",
    "\n",
    "In this tutorial we will simulate the CHMP3 protein. Similar to this [paper](https://www.cell.com/structure/fulltext/S0969-2126(10)00395-3). \n",
    "The CHMP3 protein contains 2 unstructured domains and 3 rigid domains. The unstructured domain link the rigid domains together and are model with a Gaussian chain.\n",
    "In the simulation the Gaussian chain is only modeled as an attractive spring potential and no structures are created for it. Explicit linker positions can be generated in post processing.\n",
    "\n",
    "In the top file we define the 5 domains. The selections here are using the atom ids in the PDB but a [full selection language](https://www.mdanalysis.org/docs/documentation_pages/selections.html) is supported. Note that for the connections the selection has to specify a single atom or `pycomplexes convert` will throw an error."
   ]
  },
  {
   "cell_type": "code",
   "execution_count": null,
   "metadata": {},
   "outputs": [],
   "source": [
    "%%writefile chmp3.top\n",
    "box: [200, 200, 200]\n",
    "topology:\n",
    "    CHMP3:\n",
    "        coordinate-file: chmp3.pdb\n",
    "        domains:\n",
    "            rigid1:\n",
    "                type: rigid\n",
    "                selection: 'bynum 1-132'\n",
    "            link1:\n",
    "                type: gaussian\n",
    "                selection: 'bynum 133-148'\n",
    "                start_connection: [rigid1, 'bynum 132']\n",
    "                end_connection: [rigid2, 'bynum 149']\n",
    "            rigid2:\n",
    "                type: rigid\n",
    "                selection: 'bynum 149-164'\n",
    "            link2:\n",
    "                type: gaussian\n",
    "                selection: 'bynum 165-198'\n",
    "                start_connection: [rigid2, 'bynum 164']\n",
    "                end_connection: [rigid3, 'bynum 199']\n",
    "            rigid3:\n",
    "                type: rigid\n",
    "                selection: 'bynum 199-214'"
   ]
  },
  {
   "cell_type": "markdown",
   "metadata": {},
   "source": [
    "With the top file we can use `pycomplexes convert` to generate an cplx file to be used as an input for complexes."
   ]
  },
  {
   "cell_type": "code",
   "execution_count": null,
   "metadata": {},
   "outputs": [],
   "source": [
    "!pycomplexes convert chmp3.top chmp3.cplx"
   ]
  },
  {
   "cell_type": "markdown",
   "metadata": {},
   "source": [
    "We also need a configuration file for the simulation"
   ]
  },
  {
   "cell_type": "code",
   "execution_count": null,
   "metadata": {},
   "outputs": [],
   "source": [
    "%%writefile config.yaml\n",
    "structure: chmp3.cplx\n",
    "montecarlo:\n",
    "    algorithm: nvt\n",
    "    algorithm-params:\n",
    "        accept-func: metropolis\n",
    "        temperatur: 300\n",
    "    seed: 3333\n",
    "    short-range-cutoff:\n",
    "        enable: False\n",
    "output:\n",
    "    log: complexes.log\n",
    "    file: chmp3.xtc\n",
    "    freq: 10\n",
    "    nstructures: 5\n",
    "    stat-file: chmp3.stat\n",
    "    restart-freq: -1"
   ]
  },
  {
   "cell_type": "markdown",
   "metadata": {},
   "source": [
    "Now we can run the simulation."
   ]
  },
  {
   "cell_type": "code",
   "execution_count": null,
   "metadata": {},
   "outputs": [],
   "source": [
    "!complexes++ -c config.yaml --nb-threads=1"
   ]
  },
  {
   "cell_type": "markdown",
   "metadata": {},
   "source": [
    "After the simulation is done we can check on it with vmd. For easier visualization the `pycomplexes visualize` tool can be used that generates a vmd script."
   ]
  },
  {
   "cell_type": "code",
   "execution_count": null,
   "metadata": {},
   "outputs": [],
   "source": [
    "!pycomplexes visualize -cc config.yaml"
   ]
  },
  {
   "cell_type": "markdown",
   "metadata": {},
   "source": [
    "The trajectory can now be visualized with `vmd -e chmp3_output.vmd`. The linker beads do not move in the simulation. They are only dummy particles but we can generate new linker positions with the `pycomplexes addlinker` command."
   ]
  },
  {
   "cell_type": "code",
   "execution_count": null,
   "metadata": {
    "scrolled": true
   },
   "outputs": [],
   "source": [
    "!pycomplexes addlinker config.yaml chmp3_linker.xtc"
   ]
  },
  {
   "cell_type": "markdown",
   "metadata": {},
   "source": [
    "To update the VMD script we now have to tell visualize exactly which xtc file we want to use. To better choose between the two simulations we also change the output name of the vmd script. Go ahead and look at the simulation with moving linkers."
   ]
  },
  {
   "cell_type": "code",
   "execution_count": null,
   "metadata": {},
   "outputs": [],
   "source": [
    "!pycomplexes visualize chmp3.cplx chmp3_reference.pdb chmp3_linker.xtc -o chmp3_linker.vmd --periodic_imgs"
   ]
  },
  {
   "cell_type": "markdown",
   "metadata": {},
   "source": [
    "The new vmd script can be used to look at the trajectory with explicit linker beads."
   ]
  },
  {
   "cell_type": "code",
   "execution_count": null,
   "metadata": {},
   "outputs": [],
   "source": []
  }
 ],
 "metadata": {
  "kernelspec": {
   "display_name": "Python 3 (ipykernel)",
   "language": "python",
   "name": "python3"
  },
  "language_info": {
   "codemirror_mode": {
    "name": "ipython",
    "version": 3
   },
   "file_extension": ".py",
   "mimetype": "text/x-python",
   "name": "python",
   "nbconvert_exporter": "python",
   "pygments_lexer": "ipython3",
   "version": "3.9.12"
  },
  "toc": {
   "base_numbering": 1,
   "nav_menu": {},
   "number_sections": true,
   "sideBar": true,
   "skip_h1_title": false,
   "title_cell": "Table of Contents",
   "title_sidebar": "Contents",
   "toc_cell": false,
   "toc_position": {},
   "toc_section_display": true,
   "toc_window_display": false
  }
 },
 "nbformat": 4,
 "nbformat_minor": 2
}
