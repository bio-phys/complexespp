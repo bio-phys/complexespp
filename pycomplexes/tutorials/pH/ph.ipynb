{
 "cells": [
  {
   "cell_type": "code",
   "execution_count": null,
   "metadata": {},
   "outputs": [],
   "source": [
    "%matplotlib inline\n",
    "import matplotlib.pyplot as plt"
   ]
  },
  {
   "cell_type": "code",
   "execution_count": null,
   "metadata": {},
   "outputs": [],
   "source": [
    "import os\n",
    "import yaml\n",
    "import numpy as np\n",
    "from copy import deepcopy"
   ]
  },
  {
   "cell_type": "markdown",
   "metadata": {},
   "source": [
    "# What and why?"
   ]
  },
  {
   "cell_type": "markdown",
   "metadata": {},
   "source": [
    "Per default the pycomplexes convert tool assumes the pH in your simulation to be pH = 7.0.\n",
    "We provided a tool (**ph**) to change the charges of your coarse-grained in accordance to pH values different from 7.0.\n",
    "We assume the amino acids to be quasi free and apply the *Henderson-Hasselbalch* equation. The **ph** tool applies changes to\n",
    "an existing cplx file."
   ]
  },
  {
   "cell_type": "markdown",
   "metadata": {},
   "source": [
    "# Change sidechain charges in cplx structure file\n",
    "\n",
    "We prepared an artificial structure file for this tutorial. \n",
    "We can make use of the command line to quickly change the charges in the file in accordance to a certain pH. Let's prepare structures at a pH = 4"
   ]
  },
  {
   "cell_type": "code",
   "execution_count": null,
   "metadata": {},
   "outputs": [],
   "source": [
    "!pycomplexes ph test.cplx 4 -o pH4.cplx"
   ]
  },
  {
   "cell_type": "markdown",
   "metadata": {},
   "source": [
    "Optionally to the CLI tool you can also directly make use of the pycomplexes python library. As an example we create structures for a pH 4 to 10"
   ]
  },
  {
   "cell_type": "code",
   "execution_count": null,
   "metadata": {},
   "outputs": [],
   "source": [
    "from pycomplexes import ph"
   ]
  },
  {
   "cell_type": "markdown",
   "metadata": {},
   "source": [
    "We load the prepared structure file:"
   ]
  },
  {
   "cell_type": "code",
   "execution_count": null,
   "metadata": {},
   "outputs": [],
   "source": [
    "with open(\"test.cplx\") as f:\n",
    "    cplx_struct = yaml.safe_load(f)"
   ]
  },
  {
   "cell_type": "markdown",
   "metadata": {},
   "source": [
    "We create structures for different pHs:"
   ]
  },
  {
   "cell_type": "code",
   "execution_count": null,
   "metadata": {},
   "outputs": [],
   "source": [
    "pHs = np.arange(4, 10, 0.5)\n",
    "modified_cplx_structs = [deepcopy(ph.change_charges(cplx_struct, ph=pH)) for pH in pHs]"
   ]
  },
  {
   "cell_type": "markdown",
   "metadata": {},
   "source": [
    "And write the structures into separate cplx files"
   ]
  },
  {
   "cell_type": "code",
   "execution_count": null,
   "metadata": {},
   "outputs": [],
   "source": [
    "for pH, modified_struc in zip(pHs, modified_cplx_structs):\n",
    "    fname = \"pH{}.cplx\".format(pH)\n",
    "    with open(fname, \"w\") as f:\n",
    "        yaml.dump(modified_struc, f)"
   ]
  },
  {
   "cell_type": "markdown",
   "metadata": {},
   "source": [
    "We wrote a couple of files now. Check yourself."
   ]
  },
  {
   "cell_type": "markdown",
   "metadata": {},
   "source": [
    "Let's see how the charges in the structure files have changed.\n",
    "Here we specifically look at the changed charges for a single HIS in the cplx."
   ]
  },
  {
   "cell_type": "code",
   "execution_count": null,
   "metadata": {
    "scrolled": true
   },
   "outputs": [],
   "source": [
    "top_idx = 1\n",
    "domain_idx = 3\n",
    "charges = []\n",
    "for pH, modified_struc in zip(pHs, modified_cplx_structs):\n",
    "    resname = modified_struc[\"topologies\"][top_idx][\"domains\"][domain_idx][\"beads\"][0]\n",
    "    charge = modified_struc[\"topologies\"][top_idx][\"domains\"][domain_idx][\"charges\"][0]\n",
    "    charges.append(charge)"
   ]
  },
  {
   "cell_type": "code",
   "execution_count": null,
   "metadata": {},
   "outputs": [],
   "source": [
    "f,axs = plt.subplots(figsize=plt.figaspect(.5))\n",
    "axs.axhline( .5, c=\"r\", ls=\"--\", alpha=.5)\n",
    "axs.axvline(6.5, c=\"k\", ls=\"--\", alpha=.5, label=\"pKA=6.5\")\n",
    "axs.plot(pHs, charges, \"o\", label=\"histidine\")\n",
    "axs.set(xlabel=\"pH\",\n",
    "        ylabel=\"magn. of sidechain charge\")\n",
    "axs.legend();"
   ]
  },
  {
   "cell_type": "markdown",
   "metadata": {},
   "source": [
    "Try other residues in the example file and see how the charges of other residue types changes with the pH."
   ]
  },
  {
   "cell_type": "markdown",
   "metadata": {},
   "source": [
    "# Use custom pKA values for the residues"
   ]
  },
  {
   "cell_type": "code",
   "execution_count": null,
   "metadata": {},
   "outputs": [],
   "source": [
    "# lets make a copy of the default pKA values\n",
    "charged_sidechains = deepcopy(ph.CHARGED_SIDECHAINS)"
   ]
  },
  {
   "cell_type": "code",
   "execution_count": null,
   "metadata": {},
   "outputs": [],
   "source": [
    "# default pKA values and information, whether the sidechain is acidic or basic (charge is -1 or +1)\n",
    "for resname, subdict in charged_sidechains.items():\n",
    "    print(\"residue name: {}\".format(resname))\n",
    "    for key, val in subdict.items():\n",
    "        print(\"\\t{}:\\t {:>4.1f}\".format(key, val))"
   ]
  },
  {
   "cell_type": "markdown",
   "metadata": {},
   "source": [
    "We want to apply a pKA-value of 6.0 to residues of type histidine, which is different than the default value. \n",
    "Therefore, we change the dictionary with the pKA information in the following way. \n",
    "We leave all other pKAs untouched. "
   ]
  },
  {
   "cell_type": "code",
   "execution_count": null,
   "metadata": {},
   "outputs": [],
   "source": [
    "charged_sidechains[\"HIS\"][\"pK\"] = 6.0"
   ]
  },
  {
   "cell_type": "markdown",
   "metadata": {},
   "source": [
    "We redo the procedure above with the modified values."
   ]
  },
  {
   "cell_type": "code",
   "execution_count": null,
   "metadata": {},
   "outputs": [],
   "source": [
    "modified_cplx_structs = [deepcopy(ph.change_charges(cplx_struct, ph=pH, charged_sidechains=charged_sidechains)) for pH in pHs]\n",
    "\n",
    "top_idx = 1\n",
    "domain_idx = 3\n",
    "charges_new = []\n",
    "for pH, modified_struc in zip(pHs, modified_cplx_structs):\n",
    "    resname = modified_struc[\"topologies\"][top_idx][\"domains\"][domain_idx][\"beads\"][0]\n",
    "    charge = modified_struc[\"topologies\"][top_idx][\"domains\"][domain_idx][\"charges\"][0]\n",
    "    charges_new.append(charge)"
   ]
  },
  {
   "cell_type": "markdown",
   "metadata": {},
   "source": [
    "We visualize the change of the titration curve:"
   ]
  },
  {
   "cell_type": "code",
   "execution_count": null,
   "metadata": {},
   "outputs": [],
   "source": [
    "f,axs = plt.subplots(figsize=plt.figaspect(0.5))\n",
    "axs.axvline(6.5, c=\"C0\", ls=\"--\", alpha=.75, label=\"pKA=6.5\")\n",
    "axs.axvline(6.0, c=\"C1\", ls=\"--\", alpha=.75, label=\"pKA=6.0\")\n",
    "axs.axhline( .5, c=\"k\", ls=\"--\", alpha=.4, label=\"y=0.5\")\n",
    "axs.plot(pHs, charges, \"o\", label=\"histidine: default\", alpha=.75, c=\"C0\")\n",
    "axs.plot(pHs, charges_new, \"o\", label=\"histidine: modified\", alpha=.75, c=\"C1\")\n",
    "axs.set(xlabel=\"pH\",\n",
    "        ylabel=\"magn. of sidechain charge\")\n",
    "axs.legend(ncol=2);"
   ]
  },
  {
   "cell_type": "markdown",
   "metadata": {},
   "source": [
    "We can also save the dictionary `charged_sidechains` in a file and use custom pKA values with the command-line tool with the flag: `-pk`"
   ]
  },
  {
   "cell_type": "code",
   "execution_count": null,
   "metadata": {},
   "outputs": [],
   "source": []
  }
 ],
 "metadata": {
  "kernelspec": {
   "display_name": "Python 3 (ipykernel)",
   "language": "python",
   "name": "python3"
  },
  "language_info": {
   "codemirror_mode": {
    "name": "ipython",
    "version": 3
   },
   "file_extension": ".py",
   "mimetype": "text/x-python",
   "name": "python",
   "nbconvert_exporter": "python",
   "pygments_lexer": "ipython3",
   "version": "3.9.12"
  },
  "toc": {
   "base_numbering": 1,
   "nav_menu": {},
   "number_sections": true,
   "sideBar": true,
   "skip_h1_title": false,
   "title_cell": "Table of Contents",
   "title_sidebar": "Contents",
   "toc_cell": false,
   "toc_position": {},
   "toc_section_display": true,
   "toc_window_display": false
  }
 },
 "nbformat": 4,
 "nbformat_minor": 2
}
