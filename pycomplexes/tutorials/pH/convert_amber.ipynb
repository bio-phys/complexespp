{
 "cells": [
  {
   "cell_type": "code",
   "execution_count": null,
   "metadata": {},
   "outputs": [],
   "source": [
    "import MDAnalysis as mda\n",
    "import numpy as np\n",
    "import yaml"
   ]
  },
  {
   "cell_type": "code",
   "execution_count": null,
   "metadata": {},
   "outputs": [],
   "source": [
    "def filter_atom_names(ag1,ag2):\n",
    "    return list(set(ag1.names) - set(ag2.names))"
   ]
  },
  {
   "cell_type": "markdown",
   "metadata": {},
   "source": [
    "# What and why?"
   ]
  },
  {
   "cell_type": "markdown",
   "metadata": {},
   "source": [
    "In the following we introduce the functionality of the pycomplexes toolbox to be able to convert structure files with non-canonical amber residue names. With this functionality we are implicitly able to prepare coarse-grained protein structures at different pH. We prepared hen-egg white Lysozyme (6LYZ) at different pH with an external tool and demonstrate how to convert these structures to the cplx-structure format."
   ]
  },
  {
   "cell_type": "markdown",
   "metadata": {},
   "source": [
    "# Topologies at different pH "
   ]
  },
  {
   "cell_type": "markdown",
   "metadata": {},
   "source": [
    "We compare amber topologies which have been prepared at different pH:"
   ]
  },
  {
   "cell_type": "code",
   "execution_count": null,
   "metadata": {},
   "outputs": [],
   "source": [
    "# all-atom coordinate file at pH 5.0\n",
    "pqr5 = mda.Universe(\"0.15_80_10_pH5.0_6LYZ.result.pqr\")\n",
    "# all-atom coordinate file at pH 7.0\n",
    "pqr7 = mda.Universe(\"0.15_80_10_pH7.0_6LYZ.result.pqr\")"
   ]
  },
  {
   "cell_type": "code",
   "execution_count": null,
   "metadata": {},
   "outputs": [],
   "source": [
    "print(\"Total charge at pH 5.0: {:.1f}\".format(pqr5.atoms.charges.sum()))\n",
    "print(\"Total charge at ph 7.0: {:.1f}\".format(pqr7.atoms.charges.sum()))"
   ]
  },
  {
   "cell_type": "markdown",
   "metadata": {},
   "source": [
    "We observe a change in the total charge."
   ]
  },
  {
   "cell_type": "markdown",
   "metadata": {},
   "source": [
    "## Which residue charges changed?"
   ]
  },
  {
   "cell_type": "markdown",
   "metadata": {},
   "source": [
    "We loop through all residues and check, whether some residue names have changed between pH 5 and pH 7:"
   ]
  },
  {
   "cell_type": "code",
   "execution_count": null,
   "metadata": {},
   "outputs": [],
   "source": [
    "for rid, r5, r7 in zip(pqr5.residues.resids, pqr5.residues.resnames, pqr7.residues.resnames):\n",
    "    if r5 != r7:\n",
    "        print(\"resid {}: {} -> {}\".format(rid, r5, r7))"
   ]
  },
  {
   "cell_type": "markdown",
   "metadata": {},
   "source": [
    "We find, that residue 15 and 35 have changed. These name changes suggest a change in protonation state of these two residues. The change of protonation state is reflected in the changed residue name."
   ]
  },
  {
   "cell_type": "markdown",
   "metadata": {},
   "source": [
    "We follow the Residue naming convention of amber. This convention is documented in the Amber Manual:\n",
    "\n",
    "http://ambermd.org/Manuals.php\n",
    "\n",
    "In section >> Residue naming conventions <<"
   ]
  },
  {
   "cell_type": "markdown",
   "metadata": {},
   "source": [
    "# Comparing residues at different protonation state"
   ]
  },
  {
   "cell_type": "code",
   "execution_count": null,
   "metadata": {},
   "outputs": [],
   "source": [
    "res15ph5 = pqr5.atoms.select_atoms(\"resid 15\")\n",
    "res15ph7 = pqr7.atoms.select_atoms(\"resid 15\")\n",
    "\n",
    "res35ph5 = pqr5.atoms.select_atoms(\"resid 35\")\n",
    "res35ph7 = pqr7.atoms.select_atoms(\"resid 35\")"
   ]
  },
  {
   "cell_type": "markdown",
   "metadata": {},
   "source": [
    "We compare the number of atoms of the residues, which have been changed in the course of preparation at different pH."
   ]
  },
  {
   "cell_type": "code",
   "execution_count": null,
   "metadata": {},
   "outputs": [],
   "source": [
    "print(\"Number of atoms in residue 15 at pH=5:\\t{}\\n\"\n",
    "      \"Number of atoms in residue 15 at pH=7:\\t{}\".format(res15ph5.n_atoms, res15ph7.n_atoms))\n",
    "print(\"Number of atoms in residue 35 at pH=5:\\t{}\\n\"\n",
    "      \"Number of atoms in residue 35 at pH=7:\\t{}\".format(res35ph5.n_atoms, res35ph7.n_atoms))"
   ]
  },
  {
   "cell_type": "markdown",
   "metadata": {},
   "source": [
    "Due to deprotonation the number of atoms has been decreased."
   ]
  },
  {
   "cell_type": "markdown",
   "metadata": {},
   "source": [
    "### Which atoms have been added in the course of protonation?"
   ]
  },
  {
   "cell_type": "code",
   "execution_count": null,
   "metadata": {},
   "outputs": [],
   "source": [
    "print(\"{}\".format(*filter_atom_names(res15ph5,res15ph7)))\n",
    "print(\"{}\".format(*filter_atom_names(res35ph5,res35ph7)))"
   ]
  },
  {
   "cell_type": "markdown",
   "metadata": {},
   "source": [
    "Two hydrogen atoms have been added."
   ]
  },
  {
   "cell_type": "code",
   "execution_count": null,
   "metadata": {},
   "outputs": [],
   "source": [
    "for rid, c5, c7 in zip(pqr5.residues.resids, pqr5.residues.charges, pqr7.residues.charges):\n",
    "    if abs(c5-c7) > 1e-2:\n",
    "        print(\"Residue number {}\".format(rid))\n",
    "        print(\"  Charge at pH 5.0: {:.2f}\".format(c5))\n",
    "        print(\"  Charge at pH 7.0: {:.2f}\".format(c7))"
   ]
  },
  {
   "cell_type": "markdown",
   "metadata": {},
   "source": [
    "We can see that the charge of these two residues changed due to deprotonation."
   ]
  },
  {
   "cell_type": "markdown",
   "metadata": {},
   "source": [
    "# Making use of pycomplexes to convert amber-topologies"
   ]
  },
  {
   "cell_type": "markdown",
   "metadata": {},
   "source": [
    "## Preparing input for convert"
   ]
  },
  {
   "cell_type": "markdown",
   "metadata": {},
   "source": [
    "We use the prepared pqr files as input for the convert tool of the pycomplexes toolbox."
   ]
  },
  {
   "cell_type": "code",
   "execution_count": null,
   "metadata": {},
   "outputs": [],
   "source": [
    "%%writefile 6LYZ_pH5.0.top\n",
    "box: [100, 100, 100]\n",
    "topology:\n",
    "    A:\n",
    "        coordinate-file: 0.15_80_10_pH5.0_6LYZ.result.pqr\n",
    "        domains:\n",
    "            lysozyme:\n",
    "                type: rigid\n",
    "                selection: 'protein and name CA'"
   ]
  },
  {
   "cell_type": "code",
   "execution_count": null,
   "metadata": {},
   "outputs": [],
   "source": [
    "%%writefile 6LYZ_pH7.0.top\n",
    "box: [100, 100, 100]\n",
    "topology:\n",
    "    A:\n",
    "        coordinate-file: 0.15_80_10_pH7.0_6LYZ.result.pqr\n",
    "        domains:\n",
    "            lysozyme:\n",
    "                type: rigid\n",
    "                selection: 'protein and name CA'"
   ]
  },
  {
   "cell_type": "markdown",
   "metadata": {},
   "source": [
    "## Applying convert to these files"
   ]
  },
  {
   "cell_type": "code",
   "execution_count": null,
   "metadata": {},
   "outputs": [],
   "source": [
    "from pycomplexes import convert"
   ]
  },
  {
   "cell_type": "code",
   "execution_count": null,
   "metadata": {},
   "outputs": [],
   "source": [
    "top_fname = \"6LYZ_pH5.0.top\"\n",
    "with open(top_fname) as f:\n",
    "    top = yaml.safe_load(f)\n",
    "\n",
    "cplx5 = convert.convert(top)"
   ]
  },
  {
   "cell_type": "code",
   "execution_count": null,
   "metadata": {},
   "outputs": [],
   "source": [
    "top_fname = \"6LYZ_pH7.0.top\"\n",
    "with open(top_fname) as f:\n",
    "    top = yaml.safe_load(f)\n",
    "\n",
    "cplx7 = convert.convert(top)"
   ]
  },
  {
   "cell_type": "markdown",
   "metadata": {},
   "source": [
    "# Comparing complexes topologies at different pH"
   ]
  },
  {
   "cell_type": "code",
   "execution_count": null,
   "metadata": {},
   "outputs": [],
   "source": [
    "for (charge5, charge7, resname5, resname7) in zip(cplx5[\"topologies\"][0][\"domains\"][0][\"charges\"],\n",
    "                                                  cplx7[\"topologies\"][0][\"domains\"][0][\"charges\"],\n",
    "                                                  cplx5[\"topologies\"][0][\"domains\"][0][\"beads\"],\n",
    "                                                  cplx7[\"topologies\"][0][\"domains\"][0][\"beads\"]):\n",
    "    if charge5 != charge7:\n",
    "        print(\"residue names: {}, {} charges: {:>4}, {:>4}\".format(resname5, resname7, charge5, charge7))"
   ]
  },
  {
   "cell_type": "markdown",
   "metadata": {},
   "source": [
    "We see that the charges of these residues has been changed at different pH-values.\n",
    "The Lennard-Jones interaction parameters do not change, since the the residues have been renamed to agree with the canonical naming convention."
   ]
  },
  {
   "cell_type": "markdown",
   "metadata": {},
   "source": [
    "# Preparing cplx-structure files"
   ]
  },
  {
   "cell_type": "markdown",
   "metadata": {},
   "source": [
    "We can also use the convert-tool from the command line to achieve a cplx-structure file:"
   ]
  },
  {
   "cell_type": "code",
   "execution_count": null,
   "metadata": {},
   "outputs": [],
   "source": [
    "! pycomplexes convert 6LYZ_pH5.0.top 6LYZ_pH5.0.cplx"
   ]
  },
  {
   "cell_type": "code",
   "execution_count": null,
   "metadata": {},
   "outputs": [],
   "source": [
    "! pycomplexes convert 6LYZ_pH7.0.top 6LYZ_pH7.0.cplx"
   ]
  },
  {
   "cell_type": "code",
   "execution_count": null,
   "metadata": {},
   "outputs": [],
   "source": [
    "!ls *.cplx"
   ]
  },
  {
   "cell_type": "markdown",
   "metadata": {},
   "source": [
    "These files we prepared previously can be used with complexes-pp. We assigned charges according to the pH used preparing the structures."
   ]
  },
  {
   "cell_type": "code",
   "execution_count": null,
   "metadata": {},
   "outputs": [],
   "source": []
  }
 ],
 "metadata": {
  "kernelspec": {
   "display_name": "Python 3 (ipykernel)",
   "language": "python",
   "name": "python3"
  },
  "language_info": {
   "codemirror_mode": {
    "name": "ipython",
    "version": 3
   },
   "file_extension": ".py",
   "mimetype": "text/x-python",
   "name": "python",
   "nbconvert_exporter": "python",
   "pygments_lexer": "ipython3",
   "version": "3.9.7"
  },
  "toc": {
   "base_numbering": 1,
   "nav_menu": {},
   "number_sections": true,
   "sideBar": true,
   "skip_h1_title": false,
   "title_cell": "Table of Contents",
   "title_sidebar": "Contents",
   "toc_cell": false,
   "toc_position": {},
   "toc_section_display": true,
   "toc_window_display": false
  }
 },
 "nbformat": 4,
 "nbformat_minor": 2
}
