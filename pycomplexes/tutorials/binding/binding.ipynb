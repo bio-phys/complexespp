{
 "cells": [
  {
   "cell_type": "code",
   "execution_count": null,
   "metadata": {},
   "outputs": [],
   "source": [
    "%matplotlib inline\n",
    "import matplotlib.pyplot as plt\n",
    "import numpy as np\n",
    "import MDAnalysis as mda\n",
    "from MDAnalysis.analysis.align import alignto\n",
    "import yaml\n",
    "import pandas as pd\n",
    "import tqdm"
   ]
  },
  {
   "cell_type": "markdown",
   "metadata": {
    "toc-hr-collapsed": false
   },
   "source": [
    "# Binding of the Ubiquitin UIM1 System\n",
    "\n",
    "This notebook demonstrates how to simulate the two bound states of the ubiquitin uim1 system. We will look in detail at the following steps\n",
    "\n",
    "1. Setup\n",
    "1. Equilibration\n",
    "1. Production Run\n",
    "1. Post Processing\n",
    "1. Analysis"
   ]
  },
  {
   "cell_type": "markdown",
   "metadata": {
    "toc-hr-collapsed": false
   },
   "source": [
    "# Setup\n",
    "\n",
    "To create a **cplx** file, the input for complexes++, we are going to use the `pycomplexes convert` command.\n",
    "First we define all topologies in the system. In our case each topology consist of one rigid domain. We will\n",
    "do this by writing a **binding.top** file that *pycomplexes* understands."
   ]
  },
  {
   "cell_type": "code",
   "execution_count": null,
   "metadata": {},
   "outputs": [],
   "source": [
    "%%writefile binding.top\n",
    "# Dimensions of PBC box in angstrom\n",
    "box: [100, 100, 100]\n",
    "topology:\n",
    "    # Definition of the first topology named ubiquitin\n",
    "    Ubiquitin:\n",
    "        # Take coordinates from this file\n",
    "        coordinate-file: 1Q0W.pdb\n",
    "        # now we define the domains in this topology\n",
    "        domains:\n",
    "            ubiquitin:\n",
    "                type: rigid\n",
    "                selection: 'protein and name CA and segid B'\n",
    "    # We also need to define the UIM1 topology\n",
    "    UIM1:\n",
    "        coordinate-file: 1Q0W.pdb\n",
    "        domains:\n",
    "            uim1:\n",
    "                type: rigid\n",
    "                selection: 'protein and name CA and segid A'"
   ]
  },
  {
   "cell_type": "markdown",
   "metadata": {},
   "source": [
    "The **binding.top** file can now be converted. As a forcefield we are going to use the *KimHummer* parameters from the original publication."
   ]
  },
  {
   "cell_type": "code",
   "execution_count": null,
   "metadata": {},
   "outputs": [],
   "source": [
    "!pycomplexes convert binding.top equilibrate.cplx --forcefield=KimHummer"
   ]
  },
  {
   "cell_type": "markdown",
   "metadata": {},
   "source": [
    "Now a new file called `equilibrate.cplx` should exist."
   ]
  },
  {
   "cell_type": "code",
   "execution_count": null,
   "metadata": {},
   "outputs": [],
   "source": [
    "!ls"
   ]
  },
  {
   "cell_type": "markdown",
   "metadata": {},
   "source": [
    "# Equilibration\n",
    "\n",
    "We could start the simulation directly from the crystal structure. However we would like to know exactly how the \n",
    "bound state in the crystal structure looks like in the KimHummer forcefield. Therefore we will to an equilibration \n",
    "run first at only 100 Kelvin.\n",
    "\n",
    "Before we start the simulation we have to write a configuration file to tell *complexes++* which Monte-Carlo algorithm to chose."
   ]
  },
  {
   "cell_type": "code",
   "execution_count": null,
   "metadata": {},
   "outputs": [],
   "source": [
    "%%writefile equilibrate.conf\n",
    "# CPLX file containing coordinates and forcefield\n",
    "structure: equilibrate.cplx\n",
    "# Settings of Monte-Carlo Algorithm\n",
    "montecarlo:\n",
    "    # We use the nvt ensemble algorithm\n",
    "    algorithm: nvt\n",
    "    # with the metropolis acceptance function and a temperature of 100 Kelvin\n",
    "    algorithm-params:\n",
    "        accept-func: metropolis\n",
    "        temperatur: 100\n",
    "    # We always need to specify a seed. The same seed will yield identical runs\n",
    "    seed: 3333\n",
    "    # Because we only have 2 domains it's better not to use the short-range-cutoff\n",
    "    short-range-cutoff:\n",
    "        enable: False\n",
    "# Last we set some parameters for IO\n",
    "output:\n",
    "    log: complexes.log\n",
    "    file: equilibrate.xtc\n",
    "    # Save a structure every 50 sweeps\n",
    "    freq: 50\n",
    "    # Save a total of 50 structures\n",
    "    nstructures: 50\n",
    "    stat-file: equilibrate.stat\n",
    "    # Do not write restart files\n",
    "    restart-freq: -1"
   ]
  },
  {
   "cell_type": "code",
   "execution_count": null,
   "metadata": {},
   "outputs": [],
   "source": [
    "pwd"
   ]
  },
  {
   "cell_type": "code",
   "execution_count": null,
   "metadata": {},
   "outputs": [],
   "source": [
    "!complexes++ --config=equilibrate.conf"
   ]
  },
  {
   "cell_type": "markdown",
   "metadata": {},
   "source": [
    "We can have a look at the time evolution of the total energy. Because we run at very low temperatures we expect the initial energy to quickly drop."
   ]
  },
  {
   "cell_type": "code",
   "execution_count": null,
   "metadata": {},
   "outputs": [],
   "source": [
    "stat = pd.read_csv('equilibrate.stat', index_col=0)\n",
    "\n",
    "f, ax = plt.subplots()\n",
    "\n",
    "ax.plot(stat.index, stat.energy, '.-')\n",
    "ax.set(xlabel='frame', ylabel='Energy [kT]')\n",
    "\n",
    "plt.tight_layout()"
   ]
  },
  {
   "cell_type": "markdown",
   "metadata": {},
   "source": [
    "# Production Run\n",
    "\n",
    "We can now also start from the bound state identified in the equilibration run.\n",
    "`pycomplexes` has a command for this which automatically choses the last frame in a given trajectory."
   ]
  },
  {
   "cell_type": "code",
   "execution_count": null,
   "metadata": {},
   "outputs": [],
   "source": [
    "!pycomplexes equilibration equilibrate.cplx equilibrate.xtc equilibrate_reference.pdb production.cplx"
   ]
  },
  {
   "cell_type": "markdown",
   "metadata": {},
   "source": [
    "We now have to write a new configuration file. We now run at room temperature and use different output file."
   ]
  },
  {
   "cell_type": "code",
   "execution_count": null,
   "metadata": {},
   "outputs": [],
   "source": [
    "%%writefile production.conf\n",
    "structure: production.cplx\n",
    "montecarlo:\n",
    "    algorithm: nvt\n",
    "    algorithm-params:\n",
    "        accept-func: metropolis\n",
    "        temperatur: 300\n",
    "    seed: 4242\n",
    "    short-range-cutoff:\n",
    "        enable: False\n",
    "output:\n",
    "    log: complexes.log\n",
    "    file: production.xtc\n",
    "    freq: 20\n",
    "    nstructures: 1000\n",
    "    stat-file: production.stat\n",
    "    restart-freq: -1"
   ]
  },
  {
   "cell_type": "code",
   "execution_count": null,
   "metadata": {},
   "outputs": [],
   "source": [
    "!complexes++ --config=production.conf"
   ]
  },
  {
   "cell_type": "markdown",
   "metadata": {},
   "source": [
    "# Post-Processing\n",
    "\n",
    "The raw trajectory can be confusing to look at due to PBC artifacts, like jumps at the box boundary. As a post processing step we are going to center the ubiquitin domain in the box and align all frames to the initial frame. This is going to remove jumps due to PBC artifacts."
   ]
  },
  {
   "cell_type": "code",
   "execution_count": null,
   "metadata": {},
   "outputs": [],
   "source": [
    "def apply_pbc(doms, box):\n",
    "    \"\"\"Ensure all doms are in the PBC box\"\"\"\n",
    "    for d in doms:\n",
    "        d.translate(-np.floor(d.centroid() / box) * box)"
   ]
  },
  {
   "cell_type": "code",
   "execution_count": null,
   "metadata": {},
   "outputs": [],
   "source": [
    "reference = 'production_reference.pdb'\n",
    "trajectory = 'production.xtc'\n",
    "out = 'production_align.xtc'\n",
    "        \n",
    "# Prepare input and output\n",
    "ref = mda.Universe(reference)\n",
    "trj = mda.Universe(reference, trajectory)\n",
    "ubiquitin = 'segid B'\n",
    "\n",
    "# prepare domains selections\n",
    "doms = [s.atoms for s in trj.segments]\n",
    "target = trj.select_atoms(ubiquitin)\n",
    "box = target.dimensions[:3]\n",
    "\n",
    "# Center target selection in reference\n",
    "ref_target = ref.select_atoms(ubiquitin)\n",
    "ref_target.translate(-ref_target.centroid() + .5*box)\n",
    "\n",
    "with mda.Writer(out, ref.atoms.n_atoms) as w:\n",
    "    for ts in tqdm.tqdm(trj.trajectory):\n",
    "        # Move target to center & correct for PBC changes\n",
    "        # to keep distance under pbc unchanged.\n",
    "        trj.atoms.translate(-target.centroid() + .5 * box)\n",
    "        apply_pbc(doms, box)\n",
    "        # Alignment of all atoms can happen now. It can only \n",
    "        # be done now because the alignment might move other \n",
    "        # domains outside of the simulation box again!\n",
    "        alignto(trj, ref, select=ubiquitin)\n",
    "        w.write(trj)"
   ]
  },
  {
   "cell_type": "markdown",
   "metadata": {},
   "source": [
    "# Analysis\n",
    "\n",
    "Lastly, we analyze the bound state of the system. Two natively bound states exist. \n",
    "Firstly, we will look at the energy of the system."
   ]
  },
  {
   "cell_type": "code",
   "execution_count": null,
   "metadata": {},
   "outputs": [],
   "source": [
    "# The *.stat files are CSV formatted and can be read with pandas\n",
    "stat = pd.read_csv('production.stat', index_col=0)"
   ]
  },
  {
   "cell_type": "code",
   "execution_count": null,
   "metadata": {},
   "outputs": [],
   "source": [
    "f, (ax1, ax2) = plt.subplots(1, 2, figsize=plt.figaspect(.5))\n",
    "\n",
    "ax1.plot(stat.index, stat.energy)\n",
    "ax1.set(xlabel='frame', ylabel='energy [kT]', title='timeseries')\n",
    "\n",
    "ax2.hist(stat.energy, bins=50, density=True)\n",
    "ax2.set(xlabel='energy [kT]', title='histogram')\n",
    "\n",
    "plt.tight_layout()"
   ]
  },
  {
   "cell_type": "markdown",
   "metadata": {},
   "source": [
    "From the energy alone we can see that there is a bound state with a minimal energy of -20 kT. The most populated state has around -15 kT. But we do not see two distinct states here. The peak at 0 kT is the unbound state, which we are not interested in. Another variable we can look at is the RMSD to our bound structure. For this we will use the MDAnalysis package. The `RMSD` function will automatically choose the first frame as a reference \n",
    "for the RMSD calculations."
   ]
  },
  {
   "cell_type": "code",
   "execution_count": null,
   "metadata": {},
   "outputs": [],
   "source": [
    "u = mda.Universe('production_reference.pdb', 'production_align.xtc')\n",
    "rmsd = mda.analysis.rms.RMSD(u).run()"
   ]
  },
  {
   "cell_type": "code",
   "execution_count": null,
   "metadata": {},
   "outputs": [],
   "source": [
    "f, (ax1, ax2) = plt.subplots(1, 2, figsize=plt.figaspect(.5))\n",
    "\n",
    "ax1.plot(rmsd.rmsd[:, 0], rmsd.rmsd[:, 2])\n",
    "ax1.set(xlabel='frame', ylabel=r'rmsd [$\\AA$]', title='timeseries')\n",
    "\n",
    "ax2.hist(rmsd.rmsd[:, 2], bins=50, density=True)\n",
    "ax2.set(xlabel=r'rmsd [$\\AA$]', title='histogram')\n",
    "\n",
    "plt.tight_layout()"
   ]
  },
  {
   "cell_type": "markdown",
   "metadata": {},
   "source": [
    "We observe two peaks in the histogram of the RMSD.\n",
    "Maybe we can get a clearer picture by plotting the energy and RMSD together."
   ]
  },
  {
   "cell_type": "code",
   "execution_count": null,
   "metadata": {},
   "outputs": [],
   "source": [
    "f, ax = plt.subplots()\n",
    "\n",
    "ax.scatter(rmsd.rmsd[:, 2], stat.energy, edgecolor='none', alpha=0.5)\n",
    "ax.set(xlabel=r'RMSD $[\\AA]$', ylabel='energy [kT]')\n",
    "\n",
    "plt.tight_layout()"
   ]
  },
  {
   "cell_type": "markdown",
   "metadata": {},
   "source": [
    "Now we can clearly see the two bound states. The first has a minimum at -20 kT, \n",
    "the second has a minimum at -15 kT. "
   ]
  },
  {
   "cell_type": "code",
   "execution_count": null,
   "metadata": {},
   "outputs": [],
   "source": []
  },
  {
   "cell_type": "code",
   "execution_count": null,
   "metadata": {},
   "outputs": [],
   "source": []
  }
 ],
 "metadata": {
  "kernelspec": {
   "display_name": "Python 3 (ipykernel)",
   "language": "python",
   "name": "python3"
  },
  "language_info": {
   "codemirror_mode": {
    "name": "ipython",
    "version": 3
   },
   "file_extension": ".py",
   "mimetype": "text/x-python",
   "name": "python",
   "nbconvert_exporter": "python",
   "pygments_lexer": "ipython3",
   "version": "3.9.12"
  },
  "toc": {
   "base_numbering": 1,
   "nav_menu": {
    "height": "105px",
    "width": "252px"
   },
   "number_sections": true,
   "sideBar": true,
   "skip_h1_title": false,
   "title_cell": "Table of Contents",
   "title_sidebar": "Contents",
   "toc_cell": false,
   "toc_position": {},
   "toc_section_display": "block",
   "toc_window_display": true
  }
 },
 "nbformat": 4,
 "nbformat_minor": 2
}
