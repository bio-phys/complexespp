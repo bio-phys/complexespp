{
 "cells": [
  {
   "cell_type": "code",
   "execution_count": null,
   "metadata": {},
   "outputs": [],
   "source": [
    "%matplotlib inline\n",
    "import matplotlib.pyplot as plt\n",
    "import numpy as np\n",
    "import pandas as pd\n",
    "import os\n",
    "import yaml"
   ]
  },
  {
   "cell_type": "markdown",
   "metadata": {},
   "source": [
    "# Replica Exchange Simulations with Complexes++\n",
    "\n",
    "In this notebook we run a temperature remc simulatoin of the ubiquitin uim1 system of the binding tutorial.\n",
    "The notebook will go over setting up and running an remc simulation."
   ]
  },
  {
   "cell_type": "markdown",
   "metadata": {},
   "source": [
    "# Generate CPLX file for simulation\n",
    "\n",
    "Here we define a topology called *system* defined as two domains which are ubiquitin and uim1 respecitvely."
   ]
  },
  {
   "cell_type": "code",
   "execution_count": null,
   "metadata": {},
   "outputs": [],
   "source": [
    "%%writefile binding.top\n",
    "# Dimensions of PBC box in angstrom\n",
    "box: [100, 100, 100]\n",
    "topology:\n",
    "    # Definition of the first topology named ubiquitin\n",
    "    Ubiquitin:\n",
    "        # Take coordinates from this file\n",
    "        coordinate-file: 1Q0W.pdb\n",
    "        # now we define the domains in this topology\n",
    "        domains:\n",
    "            ubiquitin:\n",
    "                type: rigid\n",
    "                selection: 'protein and name CA and segid B'\n",
    "    # We also need to define the UIM1 topology\n",
    "    UIM1:\n",
    "        coordinate-file: 1Q0W.pdb\n",
    "        domains:\n",
    "            uim1:\n",
    "                type: rigid\n",
    "                selection: 'protein and name CA and segid A'"
   ]
  },
  {
   "cell_type": "markdown",
   "metadata": {},
   "source": [
    "With *pycomplexes* we can now convert the topology into a `cplx` file that complexes can understand. We place the two domains randomly inside the simulation box to ensure that no amino acid is outside of the simulation box when the simulation starts."
   ]
  },
  {
   "cell_type": "code",
   "execution_count": null,
   "metadata": {},
   "outputs": [],
   "source": [
    "!pycomplexes convert binding.top binding.cplx --random"
   ]
  },
  {
   "cell_type": "markdown",
   "metadata": {},
   "source": [
    "# Generate Replicas\n",
    "\n",
    "To start the simulation the only thing left is a configuration file determining the forcefield and Monte-Carlo algorithm to use. All simulations in our example will use the same starting structure. Because the simulation will be started in individual folders we define a relative path to `binding.cplx`."
   ]
  },
  {
   "cell_type": "markdown",
   "metadata": {},
   "source": [
    "Now we generate a temperature ladder from 298K to up to 400K with 20K steps."
   ]
  },
  {
   "cell_type": "code",
   "execution_count": null,
   "metadata": {},
   "outputs": [],
   "source": [
    "temps = np.arange(298, 400, 20).tolist()"
   ]
  },
  {
   "cell_type": "markdown",
   "metadata": {},
   "source": [
    "*complexes++* expects us to have all simulations in different folders when we use REMC. Now we setup the configs for the different temperatures in the corresponding folders."
   ]
  },
  {
   "cell_type": "code",
   "execution_count": null,
   "metadata": {},
   "outputs": [],
   "source": [
    "for t in temps:\n",
    "    dirname = 'simulation-temp-{}'.format(t)\n",
    "    os.makedirs(dirname, exist_ok=True)\n",
    "    \n",
    "    # complexes++ understands relative paths. Here we use \n",
    "    # this to start all replicas from the same initial \n",
    "    # coordinates. File paths are going to be relative to \n",
    "    # the place where the configuration file is stored and\n",
    "    # not the folder in which complexes is started!\n",
    "    config = {'structure': '../binding.cplx',\n",
    "              'montecarlo': {\n",
    "                  'equilibration': 0,\n",
    "                  # We need to chose a random seed for each replica to get unique\n",
    "                  # trial moves.\n",
    "                  'seed': np.random.randint(1_000_000),\n",
    "                  # For two domains the cutoff algorithm will negatively impact performance\n",
    "                  'short-range-cutoff': {\n",
    "                      'enable': False\n",
    "                  },\n",
    "                  'algorithm': 'nvt',\n",
    "                  'algorithm-params': {\n",
    "                      # set temperatur\n",
    "                      'temperatur': t,\n",
    "                      'accept-func': 'metropolis'\n",
    "                  }\n",
    "              },\n",
    "              'output': {\n",
    "                  'file': 'out.xtc',\n",
    "                  'log': 'out.log',\n",
    "                  'stat-file': 'out.stat',\n",
    "                  'freq': 5,\n",
    "                  'nstructures': 100,\n",
    "                  'restart-freq': -1\n",
    "              }}\n",
    "    \n",
    "    with open(os.path.join(dirname, 'config'), 'w') as fh:\n",
    "        yaml.dump(config, fh)"
   ]
  },
  {
   "cell_type": "markdown",
   "metadata": {},
   "source": [
    "# Run the simulation"
   ]
  },
  {
   "cell_type": "markdown",
   "metadata": {},
   "source": [
    "Now we can run the simulations. Since we only have 2 domains running on a single thread is sufficient. \n",
    "First we  have a look at the help of `complexes++` to know that the arguments we choose for the simulation later do."
   ]
  },
  {
   "cell_type": "code",
   "execution_count": null,
   "metadata": {},
   "outputs": [],
   "source": [
    "!complexes++ --help"
   ]
  },
  {
   "cell_type": "markdown",
   "metadata": {},
   "source": [
    "The important arguments for REMC simulations are\n",
    "\n",
    "- multidir\n",
    "- replex\n",
    "- replex-accept\n",
    "- replex-verbosity\n",
    "\n",
    "*multidir* is needed to tell complexes in which directories it can find the config files for each replica.\n",
    "This open accepts a [wild card](https://en.wikipedia.org/wiki/Glob_(programming)). **Note** the order in which\n",
    "directories are given to complexes++ also defines neighbors directly. You are responsible to give complexes++\n",
    "the directories in the correct order!\n",
    "\n",
    "*replex-accept* defines the accept function to be used. comeplxes++ supports also Hamiltonian Replica Exchange\n",
    "and the NPT ensemble. If complexes++ doesn't know the function you specified it will tell you which are available.\n",
    "\n",
    "*replex* defines after how many sweeps an exchange is attempted.\n",
    "\n",
    "*replex-verbosity* set to *all* to enable demux post-processing.\n",
    "\n",
    "For more details on the REMC algorithms please refer to the manual.\n",
    "\n",
    "Now we start the simulation. Here we do a normal temperature replica exchange simulation."
   ]
  },
  {
   "cell_type": "code",
   "execution_count": null,
   "metadata": {},
   "outputs": [],
   "source": [
    "%%bash\n",
    "complexes++ --config=config \\\n",
    "     --multidir simulation-temp-* \\\n",
    "     --replex 5 \\\n",
    "     --replex-accept=remc \\\n",
    "     --replex-stat 5 \\\n",
    "     --replex-verbosity all "
   ]
  },
  {
   "cell_type": "markdown",
   "metadata": {},
   "source": [
    "# Analyze Exchanges"
   ]
  },
  {
   "cell_type": "markdown",
   "metadata": {},
   "source": [
    "To get an idea, how well the exchanges between our replicas were, we can make use of `pycomplexes demux`. "
   ]
  },
  {
   "cell_type": "markdown",
   "metadata": {},
   "source": [
    "## Thermodynamically Continuous\n",
    "\n",
    "The default option of `pycomplexes demux` is to store thermodynamically continuous information."
   ]
  },
  {
   "cell_type": "code",
   "execution_count": null,
   "metadata": {},
   "outputs": [],
   "source": [
    "!pycomplexes demux simulation-temp-298/config remc_demux.xvg"
   ]
  },
  {
   "cell_type": "markdown",
   "metadata": {},
   "source": [
    "In the resulting `.xvg` file the first column stores the time. The other columns contain the id of the structure to find at time *t* at the configuration. The output can be loaded with numpy."
   ]
  },
  {
   "cell_type": "code",
   "execution_count": null,
   "metadata": {},
   "outputs": [],
   "source": [
    "demux_temps = np.loadtxt(\"remc_demux.xvg\")"
   ]
  },
  {
   "cell_type": "markdown",
   "metadata": {},
   "source": [
    "We can now visualize which structure was at a given temperature over time. The structures are identified by an\n",
    "index, that denotes at which temperature this structure started the simulation. By following a temperature through structure space (configuration space), you can get a thermodynamically continuous trajectory. This output can be used with the `gmx trjcat` tool from GROMACS to generate continuous XTC files."
   ]
  },
  {
   "cell_type": "code",
   "execution_count": null,
   "metadata": {
    "scrolled": true
   },
   "outputs": [],
   "source": [
    "T_idx = 0  # choose different temperature here\n",
    "\n",
    "fig, ax = plt.subplots(figsize=plt.figaspect(1./3))\n",
    "ax.step(demux_temps[:, 0], demux_temps[:, T_idx+1], \"o\", \n",
    "         label=\"T={}K\".format(temps[T_idx]), where=\"post\")\n",
    "ax.set(xlabel=\"time [ps]\", ylabel=\"Structure idx\")\n",
    "ax.legend()\n",
    "fig.tight_layout()"
   ]
  },
  {
   "cell_type": "markdown",
   "metadata": {},
   "source": [
    "##  Structurally Continuous\n",
    "\n",
    "Another interesting thing is how a certain structure is being exchanged. For temperature replica exchange simulation this will allow us to see how a structure passes through temperature space.\n",
    "\n",
    "The demux tool can provide structurally continuous information with the `--structure_cont` switch."
   ]
  },
  {
   "cell_type": "code",
   "execution_count": null,
   "metadata": {},
   "outputs": [],
   "source": [
    "!pycomplexes demux simulation-temp-298/config remc_demux_reps.csv --structure_cont --format=csv"
   ]
  },
  {
   "cell_type": "markdown",
   "metadata": {},
   "source": [
    "Here we use an alternative output to *xvg* a *csv* (comma separated value) format that can be read using pandas."
   ]
  },
  {
   "cell_type": "code",
   "execution_count": null,
   "metadata": {},
   "outputs": [],
   "source": [
    "demux_reps = pd.read_csv(\"remc_demux_reps.csv\")"
   ]
  },
  {
   "cell_type": "markdown",
   "metadata": {},
   "source": [
    "In the resulting *csv* the columns for each structure are called `repl-x`, with *x* being the index."
   ]
  },
  {
   "cell_type": "code",
   "execution_count": null,
   "metadata": {},
   "outputs": [],
   "source": [
    "demux_reps.head()"
   ]
  },
  {
   "cell_type": "markdown",
   "metadata": {},
   "source": [
    "You can visualize the walk through temperature space by plotting a selected column. Please note here that we update the yticks to represent the temperatures and not the id of the thermodynamic configuration."
   ]
  },
  {
   "cell_type": "code",
   "execution_count": null,
   "metadata": {},
   "outputs": [],
   "source": [
    "repl_idx = 0  # choose different replica here\n",
    "\n",
    "fig, axs = plt.subplots(figsize=plt.figaspect(1./3))\n",
    "axs.step(demux_reps[\"time\"], demux_reps[\"repl-{}\".format(repl_idx)],\n",
    "         \"o-\",\n",
    "         label=\"replica-{}\".format(repl_idx), \n",
    "         where=\"post\")\n",
    "axs.set(xlabel=\"time [ps]\", ylabel=\"Temperature [K]\",\n",
    "        yticks=range(len(temps)), yticklabels=temps)\n",
    "axs.legend()\n",
    "fig.tight_layout()"
   ]
  },
  {
   "cell_type": "code",
   "execution_count": null,
   "metadata": {},
   "outputs": [],
   "source": []
  }
 ],
 "metadata": {
  "kernelspec": {
   "display_name": "Python 3 (ipykernel)",
   "language": "python",
   "name": "python3"
  },
  "language_info": {
   "codemirror_mode": {
    "name": "ipython",
    "version": 3
   },
   "file_extension": ".py",
   "mimetype": "text/x-python",
   "name": "python",
   "nbconvert_exporter": "python",
   "pygments_lexer": "ipython3",
   "version": "3.9.12"
  },
  "toc": {
   "base_numbering": 1,
   "nav_menu": {
    "height": "62px",
    "width": "252px"
   },
   "number_sections": true,
   "sideBar": true,
   "skip_h1_title": false,
   "title_cell": "Table of Contents",
   "title_sidebar": "Contents",
   "toc_cell": false,
   "toc_position": {},
   "toc_section_display": "block",
   "toc_window_display": false
  }
 },
 "nbformat": 4,
 "nbformat_minor": 2
}
