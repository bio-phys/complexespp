{
 "cells": [
  {
   "cell_type": "code",
   "execution_count": 3,
   "metadata": {},
   "outputs": [],
   "source": [
    "%matplotlib inline\n",
    "import matplotlib.pyplot as plt\n",
    "import numpy as np\n",
    "import MDAnalysis as mda\n",
    "import pycomplexes\n",
    "import yaml\n",
    "import pandas as pd"
   ]
  },
  {
   "cell_type": "markdown",
   "metadata": {},
   "source": [
    "# Generate test trajectory\n",
    "\n",
    "The first step is to generate a test trajectory with known distances between two beads. Using this trajectory and the rerun options in complexes we can easily test the energy functions."
   ]
  },
  {
   "cell_type": "code",
   "execution_count": 4,
   "metadata": {},
   "outputs": [],
   "source": [
    "xyz = np.zeros((1000, 2, 3))\n",
    "xyz[:, 0, 0] = np.linspace(.01, 5, 1000)\n",
    "xyz += 10\n",
    "box = np.eye(3) * 100\n",
    "with mda.lib.formats.libmdaxdr.TRRFile('test.trr', 'w') as xtc:\n",
    "    for i, x in enumerate(xyz):\n",
    "        # convert to nanometer before saving\n",
    "        xtc.write(x / 10, None, None, box, i, i, 0, 2)\n",
    "x = xyz[:, 0, 0] - 10"
   ]
  },
  {
   "cell_type": "markdown",
   "metadata": {},
   "source": [
    "Now we should also have a PDB with two beads for this"
   ]
  },
  {
   "cell_type": "code",
   "execution_count": 5,
   "metadata": {},
   "outputs": [],
   "source": [
    "u = mda.Universe.empty(2, n_residues=2, atom_resindex=[0, 1], trajectory=True)\n",
    "\n",
    "u.add_TopologyAttr('names', np.array(['CA', 'CA']))\n",
    "u.add_TopologyAttr('resnames', np.array(['ALA', 'EM']))\n",
    "u.add_TopologyAttr('resids', np.array([1, 2]))\n",
    "u.atoms.dimensions = mda.lib.mdamath.triclinic_box(*box)\n",
    "u.atoms.write('test.gro')"
   ]
  },
  {
   "cell_type": "markdown",
   "metadata": {},
   "source": [
    "# Generate a CPLX file to use\n",
    "\n",
    "We write this by hand to make our live easier"
   ]
  },
  {
   "cell_type": "code",
   "execution_count": 13,
   "metadata": {},
   "outputs": [
    {
     "name": "stdout",
     "output_type": "stream",
     "text": [
      "Overwriting test.cplx\n"
     ]
    }
   ],
   "source": [
    "%%writefile test.cplx\n",
    "box: [100, 100, 100]\n",
    "definitions:\n",
    "  domains:\n",
    "    A:\n",
    "      defaults: {rotation: 2, translation: 1}\n",
    "      move: rigid\n",
    "    EM:\n",
    "      defaults: {rotation: 2, translation: 1}\n",
    "      move: rigid\n",
    "  pair-interaction:\n",
    "  - domain-type-pair: [A, EM]\n",
    "    function: WCA\n",
    "  - domain-type-pair: [A, A]\n",
    "    function: None\n",
    "  - domain-type-pair: [EM, EM]\n",
    "    function: None\n",
    "topologies:\n",
    "- connections: []\n",
    "  domains:\n",
    "    0:\n",
    "      beads: [EM]\n",
    "      chain-ids: [A 2]\n",
    "      charges: [1.0]\n",
    "      coordinates:\n",
    "      - [0.0, 0.0, 0.0]\n",
    "      mc-moves: {}\n",
    "      meta-data: {}\n",
    "      name: EM\n",
    "      nbeads: 1\n",
    "      type: EM\n",
    "    1:\n",
    "      beads: [ALA]\n",
    "      chain-ids: [A 1]\n",
    "      charges: [1.0]\n",
    "      coordinates:\n",
    "      - [0.0, 0.0, 0.0]\n",
    "      mc-moves: {}\n",
    "      meta-data: {}\n",
    "      name: protein\n",
    "      nbeads: 1\n",
    "      type: A\n",
    "  name: test\n",
    "  ndomains: 2\n",
    "forcefield:\n",
    "  alpha: 0\n",
    "  dielectric-constant: 80\n",
    "  debye-length: 10\n",
    "  bead-types:\n",
    "    - ALA\n",
    "    - EM\n",
    "  charge-radii:\n",
    "    ALA : 1\n",
    "    EM : 1\n",
    "  membrane:\n",
    "    ALA : [0, 0, 0, 0, 0, 0, 0, 0]\n",
    "    EM : [0, 0, 0, 0, 0, 0, 0, 0]\n",
    "  energies:\n",
    "    ALA:\n",
    "      ALA : 1\n",
    "      EM : 1\n",
    "    EM:\n",
    "      EM : 1\n",
    "  diameter:\n",
    "    ALA:\n",
    "      ALA : 1\n",
    "      EM : 1\n",
    "    EM:\n",
    "      EM : 1"
   ]
  },
  {
   "cell_type": "markdown",
   "metadata": {},
   "source": [
    "# Generate the configuration file\n",
    "\n",
    "Now almost everything is done. We can generate the config file to run complexes. The only important thing for the rerun to work is that we use the correct cplx and xtc files"
   ]
  },
  {
   "cell_type": "code",
   "execution_count": 14,
   "metadata": {},
   "outputs": [
    {
     "name": "stdout",
     "output_type": "stream",
     "text": [
      "Overwriting test.config\n"
     ]
    }
   ],
   "source": [
    "%%writefile test.config\n",
    "structure: test.cplx\n",
    "montecarlo:\n",
    "    algorithm: nvt\n",
    "    algorithm-params:\n",
    "        rot: .3\n",
    "        trans: 4\n",
    "        temperatur: 300\n",
    "        accept-func: metropolis\n",
    "    seed: 42\n",
    "    initial-position:\n",
    "        strategy: none\n",
    "    short-range-cutoff:\n",
    "            enable: False\n",
    "output:\n",
    "    log: complexes.log\n",
    "    file: test.trr\n",
    "    freq: 1\n",
    "    nstructures: 10\n",
    "    stat-file: test.stat\n",
    "    restart-freq: -1\n"
   ]
  },
  {
   "cell_type": "markdown",
   "metadata": {},
   "source": [
    "# Now we can run complexes"
   ]
  },
  {
   "cell_type": "code",
   "execution_count": 15,
   "metadata": {},
   "outputs": [
    {
     "name": "stdout",
     "output_type": "stream",
     "text": [
      "[LOG] \n",
      "[LOG] #######################\n",
      "[LOG] # PROGRAM INFORMATION #\n",
      "[LOG] #######################\n",
      "[LOG] name: Complexes++\n",
      "[LOG] version: 0.4pre\n",
      "[LOG] commit: 6517470512eb08739916c33967c46c3d3c03c9ad\n",
      "[LOG] branch: refs/heads/ff-in-cplx\n",
      "[LOG] compilation flags:  -Wall -Wextra -Wshadow -Wnon-virtual-dtor -pedantic -Woverloaded-virtual -Wpointer-arith -Wcast-qual -Wconversion -Wold-style-cast -fopenmp -Werror  -mavx2 -march=native -mavx -march=native -msse4 -msse4.2 -march=native -msse4 -msse4.1 -march=native -mssse3 -march=native -msse3 -march=native -Wold-style-cast\n",
      "[LOG] compilation libs: /home/max/academia/projects/complexes/complexes++/build/release/ext/xdrfile-1.1.4/1.1.4/lib/libxdrfile.a;/usr/lib/libyaml-cpp.so;/usr/lib/libfmt.a;/usr/lib/libboost_program_options.so;/usr/lib/libboost_system.so;/usr/lib/libboost_filesystem.so\n",
      "[LOG] \n",
      "[LOG] \n",
      "[LOG] #################################\n",
      "[LOG] # Parsing Structure and Options #\n",
      "[LOG] #################################\n",
      "[LOG] structure file: test.cplx\n",
      "[LOG] trajectory file: test.trr\n",
      "[LOG] config file: test.config\n",
      "[LOG] user seed: 42\n",
      "[LOG] program seed: 2934951935\n",
      "[LOG] Config : full \n",
      "[LOG] total runtime = 0.0200434s\n"
     ]
    }
   ],
   "source": [
    "!complexes++ --config test.config --rerun True"
   ]
  },
  {
   "cell_type": "markdown",
   "metadata": {},
   "source": [
    "# analyze energies"
   ]
  },
  {
   "cell_type": "code",
   "execution_count": 16,
   "metadata": {},
   "outputs": [],
   "source": [
    "stat = pd.read_csv('test.stat')"
   ]
  },
  {
   "cell_type": "code",
   "execution_count": 17,
   "metadata": {},
   "outputs": [],
   "source": [
    "def lennard_jones(r, epsilon=1, sigma=1):\n",
    "    sr = sigma / r\n",
    "    return 4 * epsilon * (sr**12 - sr**6)"
   ]
  },
  {
   "cell_type": "code",
   "execution_count": 18,
   "metadata": {},
   "outputs": [],
   "source": [
    "def wca(r, epsilon=1, sigma=1):\n",
    "\n",
    "    r2ij = 2**(1/6) * sigma ** 2\n",
    "    r2 = r*r\n",
    "    \n",
    "    res = lennard_jones(r, epsilon, sigma)\n",
    "    res[r < r2ij] = - epsilon\n",
    "    return res"
   ]
  },
  {
   "cell_type": "code",
   "execution_count": 19,
   "metadata": {},
   "outputs": [
    {
     "data": {
      "image/png": "[encoded data removed]",
      "text/plain": [
       "<Figure size 432x288 with 2 Axes>"
      ]
     },
     "metadata": {},
     "output_type": "display_data"
    }
   ],
   "source": [
    "fig, axes = plt.subplots(nrows=2)\n",
    "\n",
    "ax = axes[0]\n",
    "ax.plot(x, wca(x),  label='Reference')\n",
    "ax.plot(x, stat.WCA, label='Complexes++')\n",
    "ax.set(xlabel='r [$\\AA$]', ylabel='WCA [kT]',)\n",
    "ax.legend()\n",
    "\n",
    "ax = axes[1]\n",
    "ax.plot(x, stat.WCA - wca(x),  label='Complexes++ - Reference')\n",
    "ax.set(xlabel='r [$\\AA$]', ylabel='',)\n",
    "ax.legend()\n",
    "\n",
    "fig.tight_layout()"
   ]
  },
  {
   "cell_type": "code",
   "execution_count": 20,
   "metadata": {},
   "outputs": [],
   "source": [
    "# store reference for unit test\n",
    "np.savetxt('reference.dat', wca(x))"
   ]
  },
  {
   "cell_type": "markdown",
   "metadata": {},
   "source": [
    "# Generate test files "
   ]
  },
  {
   "cell_type": "code",
   "execution_count": 21,
   "metadata": {},
   "outputs": [
    {
     "name": "stdout",
     "output_type": "stream",
     "text": [
      "Overwriting CMakeLists.txt\n"
     ]
    }
   ],
   "source": [
    "%%writefile CMakeLists.txt\n",
    "file(COPY \"test.cplx\" DESTINATION ${CMAKE_CURRENT_BINARY_DIR})\n",
    "file(COPY \"test.config\" DESTINATION ${CMAKE_CURRENT_BINARY_DIR})\n",
    "file(COPY \"test.trr\" DESTINATION ${CMAKE_CURRENT_BINARY_DIR})\n",
    "file(COPY \"test.py\" DESTINATION ${CMAKE_CURRENT_BINARY_DIR})\n",
    "file(COPY \"run.sh\" DESTINATION ${CMAKE_CURRENT_BINARY_DIR})\n",
    "file(COPY \"reference.dat\" DESTINATION ${CMAKE_CURRENT_BINARY_DIR})\n",
    "\n",
    "add_test(app-wca-energy run.sh)"
   ]
  },
  {
   "cell_type": "code",
   "execution_count": 22,
   "metadata": {},
   "outputs": [
    {
     "name": "stdout",
     "output_type": "stream",
     "text": [
      "Overwriting test.py\n"
     ]
    }
   ],
   "source": [
    "%%writefile test.py\n",
    "import sys\n",
    "import pandas as pd\n",
    "import numpy as np\n",
    "\n",
    "stat = pd.read_csv('test.stat')\n",
    "ref = np.loadtxt('reference.dat')\n",
    "\n",
    "res = True\n",
    "try:\n",
    "    np.testing.assert_almost_equal(ref, stat.WCA, decimal=5)\n",
    "except:\n",
    "    res = False\n",
    "\n",
    "print(\"all ok? = {}\".format(res))\n",
    "sys.exit(not res)"
   ]
  },
  {
   "cell_type": "code",
   "execution_count": 23,
   "metadata": {},
   "outputs": [
    {
     "name": "stdout",
     "output_type": "stream",
     "text": [
      "Overwriting run.sh\n"
     ]
    }
   ],
   "source": [
    "%%writefile run.sh\n",
    "#!/bin/bash\n",
    "\n",
    "# stop on any error\n",
    "set -e\n",
    "\n",
    "function run {\n",
    "    complexes=../../../src/complexes++\n",
    "    $complexes -c test.config --rerun=True --nb-threads=1 --backup=false\n",
    "}\n",
    "\n",
    "function testit {\n",
    "    python test.py\n",
    "}\n",
    "\n",
    "\n",
    "run\n",
    "testit\n",
    "res=$?\n",
    "exit $res"
   ]
  },
  {
   "cell_type": "code",
   "execution_count": 24,
   "metadata": {},
   "outputs": [],
   "source": [
    "!chmod +x run.sh"
   ]
  },
  {
   "cell_type": "code",
   "execution_count": null,
   "metadata": {},
   "outputs": [],
   "source": []
  }
 ],
 "metadata": {
  "kernelspec": {
   "display_name": "Python [default]",
   "language": "python",
   "name": "python3"
  },
  "language_info": {
   "codemirror_mode": {
    "name": "ipython",
    "version": 3
   },
   "file_extension": ".py",
   "mimetype": "text/x-python",
   "name": "python",
   "nbconvert_exporter": "python",
   "pygments_lexer": "ipython3",
   "version": "3.6.5"
  }
 },
 "nbformat": 4,
 "nbformat_minor": 2
}
